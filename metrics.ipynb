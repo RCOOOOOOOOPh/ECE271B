{
  "nbformat": 4,
  "nbformat_minor": 0,
  "metadata": {
    "colab": {
      "provenance": []
    },
    "kernelspec": {
      "name": "python3",
      "display_name": "Python 3"
    },
    "language_info": {
      "name": "python"
    }
  },
  "cells": [
    {
      "cell_type": "code",
      "execution_count": 1,
      "metadata": {
        "colab": {
          "base_uri": "https://localhost:8080/"
        },
        "id": "ATe-rOjtNKJb",
        "outputId": "7a60c79b-ddd9-4ea2-ece3-9cf8f6f57764"
      },
      "outputs": [
        {
          "output_type": "stream",
          "name": "stdout",
          "text": [
            "Collecting aac-metrics\n",
            "  Downloading aac-metrics-0.5.3.tar.gz (161 kB)\n",
            "\u001b[?25l     \u001b[90m━━━━━━━━━━━━━━━━━━━━━━━━━━━━━━━━━━━━━━━━\u001b[0m \u001b[32m0.0/161.6 kB\u001b[0m \u001b[31m?\u001b[0m eta \u001b[36m-:--:--\u001b[0m\r\u001b[2K     \u001b[91m━━━━━━━━━━\u001b[0m\u001b[90m╺\u001b[0m\u001b[90m━━━━━━━━━━━━━━━━━━━━━━━━━━━━━\u001b[0m \u001b[32m41.0/161.6 kB\u001b[0m \u001b[31m1.1 MB/s\u001b[0m eta \u001b[36m0:00:01\u001b[0m\r\u001b[2K     \u001b[91m━━━━━━━━━━━━━━━━━━━━━━━━━━━━━━━━━━━━━━\u001b[0m\u001b[90m╺\u001b[0m\u001b[90m━\u001b[0m \u001b[32m153.6/161.6 kB\u001b[0m \u001b[31m2.1 MB/s\u001b[0m eta \u001b[36m0:00:01\u001b[0m\r\u001b[2K     \u001b[90m━━━━━━━━━━━━━━━━━━━━━━━━━━━━━━━━━━━━━━━━\u001b[0m \u001b[32m161.6/161.6 kB\u001b[0m \u001b[31m1.9 MB/s\u001b[0m eta \u001b[36m0:00:00\u001b[0m\n",
            "\u001b[?25h  Installing build dependencies ... \u001b[?25l\u001b[?25hdone\n",
            "  Getting requirements to build wheel ... \u001b[?25l\u001b[?25hdone\n",
            "  Preparing metadata (pyproject.toml) ... \u001b[?25l\u001b[?25hdone\n",
            "Requirement already satisfied: torch>=1.10.1 in /usr/local/lib/python3.10/dist-packages (from aac-metrics) (2.1.0+cu121)\n",
            "Requirement already satisfied: numpy>=1.21.2 in /usr/local/lib/python3.10/dist-packages (from aac-metrics) (1.25.2)\n",
            "Requirement already satisfied: pyyaml>=6.0 in /usr/local/lib/python3.10/dist-packages (from aac-metrics) (6.0.1)\n",
            "Requirement already satisfied: tqdm>=4.64.0 in /usr/local/lib/python3.10/dist-packages (from aac-metrics) (4.66.2)\n",
            "Collecting sentence-transformers>=2.2.2 (from aac-metrics)\n",
            "  Downloading sentence_transformers-2.5.1-py3-none-any.whl (156 kB)\n",
            "\u001b[2K     \u001b[90m━━━━━━━━━━━━━━━━━━━━━━━━━━━━━━━━━━━━━━━━\u001b[0m \u001b[32m156.5/156.5 kB\u001b[0m \u001b[31m10.2 MB/s\u001b[0m eta \u001b[36m0:00:00\u001b[0m\n",
            "\u001b[?25hRequirement already satisfied: transformers in /usr/local/lib/python3.10/dist-packages (from aac-metrics) (4.38.1)\n",
            "Collecting torchmetrics>=0.11.4 (from aac-metrics)\n",
            "  Downloading torchmetrics-1.3.1-py3-none-any.whl (840 kB)\n",
            "\u001b[2K     \u001b[90m━━━━━━━━━━━━━━━━━━━━━━━━━━━━━━━━━━━━━━━━\u001b[0m \u001b[32m840.4/840.4 kB\u001b[0m \u001b[31m15.2 MB/s\u001b[0m eta \u001b[36m0:00:00\u001b[0m\n",
            "\u001b[?25hRequirement already satisfied: scikit-learn in /usr/local/lib/python3.10/dist-packages (from sentence-transformers>=2.2.2->aac-metrics) (1.2.2)\n",
            "Requirement already satisfied: scipy in /usr/local/lib/python3.10/dist-packages (from sentence-transformers>=2.2.2->aac-metrics) (1.11.4)\n",
            "Requirement already satisfied: huggingface-hub>=0.15.1 in /usr/local/lib/python3.10/dist-packages (from sentence-transformers>=2.2.2->aac-metrics) (0.20.3)\n",
            "Requirement already satisfied: Pillow in /usr/local/lib/python3.10/dist-packages (from sentence-transformers>=2.2.2->aac-metrics) (9.4.0)\n",
            "Requirement already satisfied: filelock in /usr/local/lib/python3.10/dist-packages (from torch>=1.10.1->aac-metrics) (3.13.1)\n",
            "Requirement already satisfied: typing-extensions in /usr/local/lib/python3.10/dist-packages (from torch>=1.10.1->aac-metrics) (4.10.0)\n",
            "Requirement already satisfied: sympy in /usr/local/lib/python3.10/dist-packages (from torch>=1.10.1->aac-metrics) (1.12)\n",
            "Requirement already satisfied: networkx in /usr/local/lib/python3.10/dist-packages (from torch>=1.10.1->aac-metrics) (3.2.1)\n",
            "Requirement already satisfied: jinja2 in /usr/local/lib/python3.10/dist-packages (from torch>=1.10.1->aac-metrics) (3.1.3)\n",
            "Requirement already satisfied: fsspec in /usr/local/lib/python3.10/dist-packages (from torch>=1.10.1->aac-metrics) (2023.6.0)\n",
            "Requirement already satisfied: triton==2.1.0 in /usr/local/lib/python3.10/dist-packages (from torch>=1.10.1->aac-metrics) (2.1.0)\n",
            "Requirement already satisfied: packaging>17.1 in /usr/local/lib/python3.10/dist-packages (from torchmetrics>=0.11.4->aac-metrics) (23.2)\n",
            "Collecting lightning-utilities>=0.8.0 (from torchmetrics>=0.11.4->aac-metrics)\n",
            "  Downloading lightning_utilities-0.10.1-py3-none-any.whl (24 kB)\n",
            "Requirement already satisfied: regex!=2019.12.17 in /usr/local/lib/python3.10/dist-packages (from transformers->aac-metrics) (2023.12.25)\n",
            "Requirement already satisfied: requests in /usr/local/lib/python3.10/dist-packages (from transformers->aac-metrics) (2.31.0)\n",
            "Requirement already satisfied: tokenizers<0.19,>=0.14 in /usr/local/lib/python3.10/dist-packages (from transformers->aac-metrics) (0.15.2)\n",
            "Requirement already satisfied: safetensors>=0.4.1 in /usr/local/lib/python3.10/dist-packages (from transformers->aac-metrics) (0.4.2)\n",
            "Requirement already satisfied: setuptools in /usr/local/lib/python3.10/dist-packages (from lightning-utilities>=0.8.0->torchmetrics>=0.11.4->aac-metrics) (67.7.2)\n",
            "Requirement already satisfied: MarkupSafe>=2.0 in /usr/local/lib/python3.10/dist-packages (from jinja2->torch>=1.10.1->aac-metrics) (2.1.5)\n",
            "Requirement already satisfied: charset-normalizer<4,>=2 in /usr/local/lib/python3.10/dist-packages (from requests->transformers->aac-metrics) (3.3.2)\n",
            "Requirement already satisfied: idna<4,>=2.5 in /usr/local/lib/python3.10/dist-packages (from requests->transformers->aac-metrics) (3.6)\n",
            "Requirement already satisfied: urllib3<3,>=1.21.1 in /usr/local/lib/python3.10/dist-packages (from requests->transformers->aac-metrics) (2.0.7)\n",
            "Requirement already satisfied: certifi>=2017.4.17 in /usr/local/lib/python3.10/dist-packages (from requests->transformers->aac-metrics) (2024.2.2)\n",
            "Requirement already satisfied: joblib>=1.1.1 in /usr/local/lib/python3.10/dist-packages (from scikit-learn->sentence-transformers>=2.2.2->aac-metrics) (1.3.2)\n",
            "Requirement already satisfied: threadpoolctl>=2.0.0 in /usr/local/lib/python3.10/dist-packages (from scikit-learn->sentence-transformers>=2.2.2->aac-metrics) (3.3.0)\n",
            "Requirement already satisfied: mpmath>=0.19 in /usr/local/lib/python3.10/dist-packages (from sympy->torch>=1.10.1->aac-metrics) (1.3.0)\n",
            "Building wheels for collected packages: aac-metrics\n",
            "  Building wheel for aac-metrics (pyproject.toml) ... \u001b[?25l\u001b[?25hdone\n",
            "  Created wheel for aac-metrics: filename=aac_metrics-0.5.3-py3-none-any.whl size=81205 sha256=12b18ac6bca33fefc46fd19095787c67ad2d20e7ee63d6a54daf7ad21bd1c761\n",
            "  Stored in directory: /root/.cache/pip/wheels/1f/80/9b/15fdbcaac858b5318d7f8654d5c8f69255f94af06a0e36ee9d\n",
            "Successfully built aac-metrics\n",
            "Installing collected packages: lightning-utilities, torchmetrics, sentence-transformers, aac-metrics\n",
            "Successfully installed aac-metrics-0.5.3 lightning-utilities-0.10.1 sentence-transformers-2.5.1 torchmetrics-1.3.1\n"
          ]
        }
      ],
      "source": [
        "!pip install aac-metrics"
      ]
    },
    {
      "cell_type": "code",
      "source": [
        "!aac-metrics-download"
      ],
      "metadata": {
        "colab": {
          "base_uri": "https://localhost:8080/"
        },
        "id": "lIdYuh1-NSmf",
        "outputId": "8e39c712-60a0-4251-f688-f57778ab8b1c"
      },
      "execution_count": 2,
      "outputs": [
        {
          "output_type": "stream",
          "name": "stdout",
          "text": [
            "[2024-03-05 06:03:01,991][aac_metrics.download][INFO] - aac-metrics download started.\n",
            "[2024-03-05 06:03:01,992][aac_metrics.download][INFO] - Downloading JAR source for 'stanford_nlp' in directory /root/.cache/aac-metrics/stanford_nlp.\n",
            "100% 5.65M/5.65M [00:00<00:00, 70.6MB/s]\n",
            "[2024-03-05 06:03:02,734][aac_metrics.download][INFO] - Downloading source for 'meteor-1.5.jar' in directory /root/.cache/aac-metrics/meteor.\n",
            "100% 6.03M/6.03M [00:00<00:00, 77.9MB/s]\n",
            "[2024-03-05 06:03:03,357][aac_metrics.download][INFO] - Downloading source for 'data/paraphrase-en.gz' in directory /root/.cache/aac-metrics/meteor.\n",
            "100% 58.9M/58.9M [00:00<00:00, 201MB/s]\n",
            "[2024-03-05 06:03:04,487][aac_metrics.download][INFO] - Downloading source for 'data/paraphrase-fr.gz' in directory /root/.cache/aac-metrics/meteor.\n",
            "100% 31.4M/31.4M [00:00<00:00, 178MB/s]\n",
            "[2024-03-05 06:03:05,399][aac_metrics.download][INFO] - Downloading source for 'data/paraphrase-de.gz' in directory /root/.cache/aac-metrics/meteor.\n",
            "100% 32.9M/32.9M [00:00<00:00, 168MB/s]\n",
            "[2024-03-05 06:03:06,098][aac_metrics.download][INFO] - Downloading source for 'data/paraphrase-es.gz' in directory /root/.cache/aac-metrics/meteor.\n",
            "100% 55.8M/55.8M [00:00<00:00, 194MB/s]\n",
            "[2024-03-05 06:03:07,205][aac_metrics.download][INFO] - Downloading source for 'data/paraphrase-cz.gz' in directory /root/.cache/aac-metrics/meteor.\n",
            "100% 7.40M/7.40M [00:00<00:00, 87.8MB/s]\n",
            "[2024-03-05 06:03:07,726][aac_metrics.download][INFO] - Downloading file '/root/.cache/aac-metrics/spice/SPICE-1.0.zip' for SPICE...\n",
            "100% 29.3M/29.3M [00:00<00:00, 157MB/s] \n",
            "[2024-03-05 06:03:09,513][aac_metrics.download][INFO] - Extracting SPICE-1.0.zip to /root/.cache/aac-metrics/spice...\n",
            "[2024-03-05 06:03:09,636][aac_metrics.download][INFO] - Downloading file '/root/.cache/aac-metrics/spice/SPICE-1.0/stanford-corenlp-full-2015-12-09.zip' for SPICE...\n",
            "100% 384M/384M [01:12<00:00, 5.57MB/s]\n",
            "[2024-03-05 06:04:22,607][aac_metrics.download][INFO] - Extracting SPICE-1.0/stanford-corenlp-full-2015-12-09.zip to /root/.cache/aac-metrics/spice...\n",
            "[2024-03-05 06:04:23,809][aac_metrics.download][INFO] - Moving '/root/.cache/aac-metrics/spice/SPICE-1.0/spice-1.0.jar' to '/root/.cache/aac-metrics/spice'... (1/20)\n",
            "[2024-03-05 06:04:23,809][aac_metrics.download][INFO] - Moving '/root/.cache/aac-metrics/spice/stanford-corenlp-full-2015-12-09/stanford-corenlp-3.6.0.jar' to '/root/.cache/aac-metrics/spice/lib'... (2/20)\n",
            "[2024-03-05 06:04:23,810][aac_metrics.download][INFO] - Moving '/root/.cache/aac-metrics/spice/stanford-corenlp-full-2015-12-09/stanford-corenlp-3.6.0-models.jar' to '/root/.cache/aac-metrics/spice/lib'... (3/20)\n",
            "[2024-03-05 06:04:23,810][aac_metrics.download][INFO] - Moving '/root/.cache/aac-metrics/spice/SPICE-1.0/lib/Meteor-1.5.jar' to '/root/.cache/aac-metrics/spice/lib'... (4/20)\n",
            "[2024-03-05 06:04:23,810][aac_metrics.download][INFO] - Moving '/root/.cache/aac-metrics/spice/SPICE-1.0/lib/objenesis-2.4.jar' to '/root/.cache/aac-metrics/spice/lib'... (5/20)\n",
            "[2024-03-05 06:04:23,810][aac_metrics.download][INFO] - Moving '/root/.cache/aac-metrics/spice/SPICE-1.0/lib/lmdbjni-win64-0.4.6.jar' to '/root/.cache/aac-metrics/spice/lib'... (6/20)\n",
            "[2024-03-05 06:04:23,810][aac_metrics.download][INFO] - Moving '/root/.cache/aac-metrics/spice/SPICE-1.0/lib/lmdbjni-linux64-0.4.6.jar' to '/root/.cache/aac-metrics/spice/lib'... (7/20)\n",
            "[2024-03-05 06:04:23,810][aac_metrics.download][INFO] - Moving '/root/.cache/aac-metrics/spice/SPICE-1.0/lib/SceneGraphParser-1.0.jar' to '/root/.cache/aac-metrics/spice/lib'... (8/20)\n",
            "[2024-03-05 06:04:23,810][aac_metrics.download][INFO] - Moving '/root/.cache/aac-metrics/spice/SPICE-1.0/lib/junit-4.12.jar' to '/root/.cache/aac-metrics/spice/lib'... (9/20)\n",
            "[2024-03-05 06:04:23,810][aac_metrics.download][INFO] - Moving '/root/.cache/aac-metrics/spice/SPICE-1.0/lib/slf4j-api-1.7.12.jar' to '/root/.cache/aac-metrics/spice/lib'... (10/20)\n",
            "[2024-03-05 06:04:23,811][aac_metrics.download][INFO] - Moving '/root/.cache/aac-metrics/spice/SPICE-1.0/lib/fst-2.47.jar' to '/root/.cache/aac-metrics/spice/lib'... (11/20)\n",
            "[2024-03-05 06:04:23,811][aac_metrics.download][INFO] - Moving '/root/.cache/aac-metrics/spice/SPICE-1.0/lib/javassist-3.19.0-GA.jar' to '/root/.cache/aac-metrics/spice/lib'... (12/20)\n",
            "[2024-03-05 06:04:23,811][aac_metrics.download][INFO] - Moving '/root/.cache/aac-metrics/spice/SPICE-1.0/lib/ejml-0.23.jar' to '/root/.cache/aac-metrics/spice/lib'... (13/20)\n",
            "[2024-03-05 06:04:23,811][aac_metrics.download][INFO] - Moving '/root/.cache/aac-metrics/spice/SPICE-1.0/lib/jackson-core-2.5.3.jar' to '/root/.cache/aac-metrics/spice/lib'... (14/20)\n",
            "[2024-03-05 06:04:23,811][aac_metrics.download][INFO] - Moving '/root/.cache/aac-metrics/spice/SPICE-1.0/lib/lmdbjni-osx64-0.4.6.jar' to '/root/.cache/aac-metrics/spice/lib'... (15/20)\n",
            "[2024-03-05 06:04:23,811][aac_metrics.download][INFO] - Moving '/root/.cache/aac-metrics/spice/SPICE-1.0/lib/hamcrest-core-1.3.jar' to '/root/.cache/aac-metrics/spice/lib'... (16/20)\n",
            "[2024-03-05 06:04:23,811][aac_metrics.download][INFO] - Moving '/root/.cache/aac-metrics/spice/SPICE-1.0/lib/lmdbjni-0.4.6.jar' to '/root/.cache/aac-metrics/spice/lib'... (17/20)\n",
            "[2024-03-05 06:04:23,811][aac_metrics.download][INFO] - Moving '/root/.cache/aac-metrics/spice/SPICE-1.0/lib/guava-19.0.jar' to '/root/.cache/aac-metrics/spice/lib'... (18/20)\n",
            "[2024-03-05 06:04:23,811][aac_metrics.download][INFO] - Moving '/root/.cache/aac-metrics/spice/SPICE-1.0/lib/slf4j-simple-1.7.21.jar' to '/root/.cache/aac-metrics/spice/lib'... (19/20)\n",
            "[2024-03-05 06:04:23,811][aac_metrics.download][INFO] - Moving '/root/.cache/aac-metrics/spice/SPICE-1.0/lib/json-simple-1.1.1.jar' to '/root/.cache/aac-metrics/spice/lib'... (20/20)\n",
            "[2024-03-05 06:04:23,860][aac_metrics.download][INFO] - Downloading SBERT and BERT error detector for FENSE metric...\n",
            "modules.json: 100% 229/229 [00:00<00:00, 1.59MB/s]\n",
            "config_sentence_transformers.json: 100% 122/122 [00:00<00:00, 819kB/s]\n",
            "README.md: 100% 3.74k/3.74k [00:00<00:00, 25.8MB/s]\n",
            "sentence_bert_config.json: 100% 53.0/53.0 [00:00<00:00, 287kB/s]\n",
            "config.json: 100% 631/631 [00:00<00:00, 4.06MB/s]\n",
            "pytorch_model.bin: 100% 268M/268M [00:01<00:00, 201MB/s]\n",
            "/usr/local/lib/python3.10/dist-packages/torch/_utils.py:831: UserWarning: TypedStorage is deprecated. It will be removed in the future and UntypedStorage will be the only storage class. This should only matter to you if you are using storages directly.  To access UntypedStorage directly, use tensor.untyped_storage() instead of tensor.storage()\n",
            "  return self.fget.__get__(instance, owner)()\n",
            "tokenizer_config.json: 100% 531/531 [00:00<00:00, 3.03MB/s]\n",
            "vocab.txt: 100% 232k/232k [00:00<00:00, 6.80MB/s]\n",
            "tokenizer.json: 100% 466k/466k [00:00<00:00, 27.5MB/s]\n",
            "special_tokens_map.json: 100% 112/112 [00:00<00:00, 508kB/s]\n",
            "1_Pooling/config.json: 100% 190/190 [00:00<00:00, 817kB/s]\n",
            "100% 438M/438M [00:05<00:00, 75.7MB/s]\n",
            "config.json: 100% 570/570 [00:00<00:00, 2.89MB/s]\n",
            "model.safetensors: 100% 440M/440M [00:03<00:00, 123MB/s]\n",
            "tokenizer_config.json: 100% 48.0/48.0 [00:00<00:00, 237kB/s]\n",
            "vocab.txt: 100% 232k/232k [00:00<00:00, 57.5MB/s]\n",
            "tokenizer.json: 100% 466k/466k [00:00<00:00, 75.0MB/s]\n",
            "[2024-03-05 06:04:38,874][aac_metrics.download][INFO] - Downloading BERT model for BERTScore metric...\n",
            "tokenizer_config.json: 100% 25.0/25.0 [00:00<00:00, 138kB/s]\n",
            "config.json: 100% 482/482 [00:00<00:00, 2.18MB/s]\n",
            "vocab.json: 100% 899k/899k [00:00<00:00, 47.1MB/s]\n",
            "merges.txt: 100% 456k/456k [00:00<00:00, 35.9MB/s]\n",
            "tokenizer.json: 100% 1.36M/1.36M [00:00<00:00, 47.2MB/s]\n",
            "model.safetensors: 100% 1.42G/1.42G [00:08<00:00, 175MB/s]\n",
            "[2024-03-05 06:04:48,659][aac_metrics.download][INFO] - aac-metrics download finished.\n"
          ]
        }
      ]
    },
    {
      "cell_type": "code",
      "source": [
        "from aac_metrics import evaluate\n",
        "\n",
        "candidates: list[str] = [\"a man is speaking\", \"rain falls\"]\n",
        "mult_references: list[list[str]] = [[\"a man speaks.\"], [\"rain is falling hard on a surface\"]]\n",
        "\n",
        "corpus_scores, _ = evaluate(candidates, mult_references)\n",
        "print(corpus_scores)"
      ],
      "metadata": {
        "colab": {
          "base_uri": "https://localhost:8080/"
        },
        "id": "NafmifXNOxWB",
        "outputId": "e870331e-ca14-4dca-eb43-1d4455df9a7f"
      },
      "execution_count": 7,
      "outputs": [
        {
          "output_type": "stream",
          "name": "stdout",
          "text": [
            "{'bleu_1': tensor(0.2567, dtype=torch.float64), 'bleu_2': tensor(0.1815, dtype=torch.float64), 'bleu_3': tensor(2.0375e-06, dtype=torch.float64), 'bleu_4': tensor(8.1178e-09, dtype=torch.float64), 'meteor': tensor(0.2634, dtype=torch.float64), 'rouge_l': tensor(0.3943, dtype=torch.float64), 'cider_d': tensor(1.2615, dtype=torch.float64), 'spice': tensor(0.7000, dtype=torch.float64), 'spider': tensor(0.9808, dtype=torch.float64)}\n"
          ]
        }
      ]
    },
    {
      "cell_type": "code",
      "source": [
        "ft_label = []\n",
        "ft_pred = []\n",
        "f = open(\"ft_label.txt\",\"r\")\n",
        "lines = f.readlines()\n",
        "for line in lines:\n",
        "    line=line.strip('\\n')\n",
        "    ft_label.append(line)\n",
        "f = open(\"ft_pred.txt\",\"r\")\n",
        "lines = f.readlines()\n",
        "for line in lines:\n",
        "    line=line.strip('\\n')\n",
        "    ft_pred.append(line)\n",
        "\n",
        "ft_label = [[sentence] for sentence in ft_label]\n",
        "corpus_scores, _ = evaluate(ft_pred, ft_label)\n",
        "print(corpus_scores)"
      ],
      "metadata": {
        "colab": {
          "base_uri": "https://localhost:8080/"
        },
        "id": "qZutzMdRXmHv",
        "outputId": "5b2961fe-ff72-4ead-bdbc-a3d59264b8a8"
      },
      "execution_count": 9,
      "outputs": [
        {
          "output_type": "stream",
          "name": "stdout",
          "text": [
            "{'bleu_1': tensor(0.5918, dtype=torch.float64), 'bleu_2': tensor(0.4547, dtype=torch.float64), 'bleu_3': tensor(0.3603, dtype=torch.float64), 'bleu_4': tensor(0.2900, dtype=torch.float64), 'meteor': tensor(0.3392, dtype=torch.float64), 'rouge_l': tensor(0.5421, dtype=torch.float64), 'cider_d': tensor(2.7158, dtype=torch.float64), 'spice': tensor(0.4726, dtype=torch.float64), 'spider': tensor(1.5942, dtype=torch.float64)}\n"
          ]
        }
      ]
    },
    {
      "cell_type": "code",
      "source": [
        "lora_label = []\n",
        "lora_pred = []\n",
        "f = open(\"lora_label.txt\",\"r\")\n",
        "lines = f.readlines()\n",
        "for line in lines:\n",
        "    line=line.strip('\\n')\n",
        "    lora_label.append(line)\n",
        "f = open(\"lora_pred.txt\",\"r\")\n",
        "lines = f.readlines()\n",
        "for line in lines:\n",
        "    line=line.strip('\\n')\n",
        "    lora_pred.append(line)\n",
        "\n",
        "lora_label = [[sentence] for sentence in lora_label]\n",
        "corpus_scores, _ = evaluate(lora_pred, lora_label)\n",
        "print(corpus_scores)"
      ],
      "metadata": {
        "colab": {
          "base_uri": "https://localhost:8080/"
        },
        "id": "jmLjmVS9X-CH",
        "outputId": "2bb482c7-b4f4-4d66-df1c-7981b0635f2e"
      },
      "execution_count": 10,
      "outputs": [
        {
          "output_type": "stream",
          "name": "stdout",
          "text": [
            "{'bleu_1': tensor(0.5746, dtype=torch.float64), 'bleu_2': tensor(0.4317, dtype=torch.float64), 'bleu_3': tensor(0.3337, dtype=torch.float64), 'bleu_4': tensor(0.2616, dtype=torch.float64), 'meteor': tensor(0.3303, dtype=torch.float64), 'rouge_l': tensor(0.5201, dtype=torch.float64), 'cider_d': tensor(2.4851, dtype=torch.float64), 'spice': tensor(0.4451, dtype=torch.float64), 'spider': tensor(1.4651, dtype=torch.float64)}\n"
          ]
        }
      ]
    },
    {
      "cell_type": "code",
      "source": [
        "dora_label = []\n",
        "dora_pred = []\n",
        "f = open(\"dora_label.txt\",\"r\")\n",
        "lines = f.readlines()\n",
        "for line in lines:\n",
        "    line=line.strip('\\n')\n",
        "    dora_label.append(line)\n",
        "f = open(\"dora_pred.txt\",\"r\")\n",
        "lines = f.readlines()\n",
        "for line in lines:\n",
        "    line=line.strip('\\n')\n",
        "    dora_pred.append(line)\n",
        "\n",
        "dora_label = [[sentence] for sentence in dora_label]\n",
        "corpus_scores, _ = evaluate(dora_pred, dora_label)\n",
        "print(corpus_scores)"
      ],
      "metadata": {
        "colab": {
          "base_uri": "https://localhost:8080/"
        },
        "id": "6Wn02aMmYg10",
        "outputId": "f5f25a55-14dc-4f92-a227-255a6fafba6c"
      },
      "execution_count": 11,
      "outputs": [
        {
          "output_type": "stream",
          "name": "stdout",
          "text": [
            "{'bleu_1': tensor(0.5739, dtype=torch.float64), 'bleu_2': tensor(0.4328, dtype=torch.float64), 'bleu_3': tensor(0.3359, dtype=torch.float64), 'bleu_4': tensor(0.2654, dtype=torch.float64), 'meteor': tensor(0.3280, dtype=torch.float64), 'rouge_l': tensor(0.5203, dtype=torch.float64), 'cider_d': tensor(2.4544, dtype=torch.float64), 'spice': tensor(0.4432, dtype=torch.float64), 'spider': tensor(1.4488, dtype=torch.float64)}\n"
          ]
        }
      ]
    }
  ]
}