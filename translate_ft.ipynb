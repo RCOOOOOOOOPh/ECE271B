{
  "cells": [
    {
      "cell_type": "code",
      "execution_count": 1,
      "metadata": {
        "colab": {
          "base_uri": "https://localhost:8080/"
        },
        "id": "l-JRYG_6mObo",
        "outputId": "b7c0f0d8-9689-4a3b-a88f-c53319169b92"
      },
      "outputs": [
        {
          "data": {
            "text/plain": [
              "'!pip install loralib\\n!pip install sentencepiece\\n!pip install sacrebleu'"
            ]
          },
          "execution_count": 1,
          "metadata": {},
          "output_type": "execute_result"
        }
      ],
      "source": [
        "'''!pip install loralib\n",
        "!pip install sentencepiece\n",
        "!pip install sacrebleu'''"
      ]
    },
    {
      "cell_type": "code",
      "execution_count": 2,
      "metadata": {
        "id": "2a8fK_i-L_6y"
      },
      "outputs": [
        {
          "name": "stderr",
          "output_type": "stream",
          "text": [
            "e:\\anaconda3\\envs\\myml\\Lib\\site-packages\\transformers\\models\\marian\\tokenization_marian.py:197: UserWarning: Recommended: pip install sacremoses.\n",
            "  warnings.warn(\"Recommended: pip install sacremoses.\")\n"
          ]
        }
      ],
      "source": [
        "from transformers import AutoTokenizer, AdamW, get_scheduler\n",
        "import torch\n",
        "import torch.nn as nn\n",
        "from torch.utils.data import Dataset, random_split, DataLoader\n",
        "from tqdm.auto import tqdm\n",
        "import re\n",
        "import time\n",
        "from matplotlib import pyplot as plt \n",
        "%matplotlib inline\n",
        "\n",
        "#data prepare and process\n",
        "f = open(\"chinese.txt\", \"r\")\n",
        "cndata = f.readlines()\n",
        "f.close()\n",
        "\n",
        "f = open(\"english.txt\", \"r\")\n",
        "endata = f.readlines()\n",
        "f.close()\n",
        "\n",
        "assert len(cndata) == len(endata) == 252777\n",
        "\n",
        "mydata = [{\"cn\": cn.strip(), \"en\": en.strip()} for cn, en in zip(cndata, endata)]\n",
        "\n",
        "class Mydataset(Dataset):\n",
        "    def __init__(self, mydata) -> None:\n",
        "        super().__init__()\n",
        "        self.data = mydata\n",
        "    def __len__(self):\n",
        "        return len(self.data)\n",
        "    def __getitem__(self, index):\n",
        "        return self.data[index]\n",
        "\n",
        "mydata = Mydataset(mydata)\n",
        "train_size = int(0.8 * 252777)\n",
        "val_size = 252777 - train_size\n",
        "trainset, valset = random_split(mydata, lengths=[train_size, val_size])\n",
        "\n",
        "model_checkpoint = \"Helsinki-NLP/opus-mt-zh-en\"\n",
        "tokenizer = AutoTokenizer.from_pretrained(model_checkpoint)\n",
        "\n",
        "max_input_length = 128\n",
        "max_target_length = 128"
      ]
    },
    {
      "cell_type": "code",
      "execution_count": 3,
      "metadata": {
        "colab": {
          "base_uri": "https://localhost:8080/"
        },
        "id": "td67da_jL_7K",
        "outputId": "0fc9e457-4363-41d1-8bcf-136424e9b297"
      },
      "outputs": [
        {
          "name": "stdout",
          "output_type": "stream",
          "text": [
            "cuda\n"
          ]
        }
      ],
      "source": [
        "#model\n",
        "from transformers import AutoModelForSeq2SeqLM\n",
        "device = 'cuda' if torch.cuda.is_available() else 'cpu'\n",
        "print(device)\n",
        "#model = AutoModelForSeq2SeqLM.from_pretrained(model_checkpoint, force_download=True, resume_download=False)\n",
        "model = AutoModelForSeq2SeqLM.from_pretrained(model_checkpoint)\n",
        "model = model.to(device)"
      ]
    },
    {
      "cell_type": "code",
      "execution_count": null,
      "metadata": {},
      "outputs": [],
      "source": [
        "def mycollate_fn(batch_samples):\n",
        "    batch_inputs, batch_targets = [], []\n",
        "    for sample in batch_samples:\n",
        "        batch_inputs.append(sample['cn'])\n",
        "        batch_targets.append(sample['en'])\n",
        "    batch_data = tokenizer(\n",
        "        batch_inputs,\n",
        "        padding=True,\n",
        "        max_length=max_input_length,\n",
        "        truncation=True,\n",
        "        return_tensors=\"pt\"\n",
        "    )\n",
        "    with tokenizer.as_target_tokenizer():\n",
        "        labels = tokenizer(\n",
        "            batch_targets,\n",
        "            padding=True,\n",
        "            max_length=max_target_length,\n",
        "            truncation=True,\n",
        "            return_tensors=\"pt\"\n",
        "        )[\"input_ids\"]\n",
        "        batch_data['decoder_input_ids'] = model.prepare_decoder_input_ids_from_labels(labels)\n",
        "        end_token_index = torch.where(labels == tokenizer.eos_token_id)[1]\n",
        "        for idx, end_idx in enumerate(end_token_index):\n",
        "            labels[idx][end_idx+1:] = -100\n",
        "        batch_data['labels'] = labels\n",
        "    return batch_data\n",
        "\n",
        "train_dataloader = DataLoader(trainset, batch_size=32, shuffle=True, collate_fn=mycollate_fn)\n",
        "valid_dataloader = DataLoader(valset, batch_size=32, shuffle=False, collate_fn=mycollate_fn)"
      ]
    },
    {
      "cell_type": "code",
      "execution_count": 4,
      "metadata": {
        "colab": {
          "base_uri": "https://localhost:8080/",
          "height": 506,
          "referenced_widgets": [
            "0f5f907fb54b4e8fb63f2650ec343b90",
            "1eeb7478f1c84133aa757dde4615cdf1",
            "9833eca0a35e4716b0530c9a29ab5799",
            "1319d4b2b0ba450081cada2760de8176",
            "32747ae4668e4ce8945628ba697214a4",
            "07e0a9b4f88e425794e1791994a51bc4",
            "3e6e53cec35f4c0583765276ea7fc1ac",
            "537d4b9f191f4075933c2126caa726cd",
            "afbf756d5541422d9c1d6aab05f9d204",
            "ee3357ba838c4a48877c57bcab1bb370",
            "6e514657e5c647f8ae091b1e0fbfb289"
          ]
        },
        "id": "m5Im3zUJPJtt",
        "outputId": "17dfeae5-83d3-4b6f-c3fa-e2c4dc2e7346"
      },
      "outputs": [
        {
          "name": "stderr",
          "output_type": "stream",
          "text": [
            "e:\\anaconda3\\envs\\myml\\Lib\\site-packages\\transformers\\optimization.py:429: FutureWarning: This implementation of AdamW is deprecated and will be removed in a future version. Use the PyTorch implementation torch.optim.AdamW instead, or set `no_deprecation_warning=True` to disable this warning\n",
            "  warnings.warn(\n"
          ]
        },
        {
          "data": {
            "application/vnd.jupyter.widget-view+json": {
              "model_id": "cdfdd52ff8d444959802a4b0a0d60f9e",
              "version_major": 2,
              "version_minor": 0
            },
            "text/plain": [
              "  0%|          | 0/6320 [00:00<?, ?it/s]"
            ]
          },
          "metadata": {},
          "output_type": "display_data"
        },
        {
          "name": "stderr",
          "output_type": "stream",
          "text": [
            "e:\\anaconda3\\envs\\myml\\Lib\\site-packages\\transformers\\tokenization_utils_base.py:3860: UserWarning: `as_target_tokenizer` is deprecated and will be removed in v5 of Transformers. You can tokenize your labels by using the argument `text_target` of the regular `__call__` method (either in the same call as your input texts if you use the same keyword arguments, or in a separate call.\n",
            "  warnings.warn(\n"
          ]
        },
        {
          "name": "stdout",
          "output_type": "stream",
          "text": [
            "epoch 6321, training time 1457.021354675293\n"
          ]
        }
      ],
      "source": [
        "optimizer = AdamW(model.parameters(), lr=3e-5)\n",
        "\n",
        "num_epochs = 1\n",
        "num_training_steps = num_epochs * len(train_dataloader)\n",
        "lr_scheduler = get_scheduler(\n",
        "    \"linear\",\n",
        "    optimizer=optimizer,\n",
        "    num_warmup_steps=0,\n",
        "    num_training_steps=num_training_steps,\n",
        ")\n",
        "\n",
        "progress_bar = tqdm(range(num_training_steps))\n",
        "progress_bar.set_description(f'loss: {0:>7f}')\n",
        "\n",
        "total_loss = 0.0\n",
        "losses = []\n",
        "\n",
        "i = 1\n",
        "model.train()\n",
        "for epoch in range(num_epochs):\n",
        "    t1 = time.time()\n",
        "    for batch in train_dataloader:\n",
        "        batch = {k: v.to(device) for k, v in batch.items()}\n",
        "        outputs = model(**batch)\n",
        "        loss = outputs.loss\n",
        "        loss.backward()\n",
        "\n",
        "        optimizer.step()\n",
        "        lr_scheduler.step()\n",
        "        optimizer.zero_grad()\n",
        "        losses.append(loss.item())\n",
        "        total_loss += loss.item()\n",
        "        progress_bar.set_description(f'loss: {total_loss/i:>7f}')\n",
        "        progress_bar.update(1)\n",
        "        i += 1\n",
        "    t2 = time.time()\n",
        "    print(\"epoch {}, training time {}\".format(i, t2-t1))"
      ]
    },
    {
      "cell_type": "code",
      "execution_count": 5,
      "metadata": {
        "id": "418aFOmBX64L"
      },
      "outputs": [],
      "source": [
        "torch.save(model.state_dict(), \"zh_en_ft.pt\")"
      ]
    },
    {
      "cell_type": "code",
      "execution_count": 6,
      "metadata": {
        "colab": {
          "base_uri": "https://localhost:8080/",
          "height": 260,
          "referenced_widgets": [
            "850620df17ac488f88a51d9e2d3f0707",
            "ccc098f5f4974ac2809c774dc8179145",
            "35a2a7714d3a42caa7a082f32b4165bc",
            "7a39e5f32b484b52826de9928b635e79",
            "48943d199a20464c9fcb208832098c0e",
            "af606d616af14b1aaa0cb79c1c0e9013",
            "d759ca2acc07453fa333a8ee9cfc872a",
            "86c9db158c3649649b1b1158e013053a",
            "918201f10e52400fa6de1462ebb149b9",
            "e3c225b570b9439eabf4030009c8cd53",
            "55733f66f1794a5ca9242ec4274cb361"
          ]
        },
        "id": "EHO6Qpi6Ziqp",
        "outputId": "f6ba8031-0712-42a2-e287-7f3e21f1153d"
      },
      "outputs": [
        {
          "data": {
            "application/vnd.jupyter.widget-view+json": {
              "model_id": "e71120b5584949bfa1eb3a26a63eb368",
              "version_major": 2,
              "version_minor": 0
            },
            "text/plain": [
              "  0%|          | 0/1580 [00:00<?, ?it/s]"
            ]
          },
          "metadata": {},
          "output_type": "display_data"
        },
        {
          "name": "stdout",
          "output_type": "stream",
          "text": [
            "According to Ryuichiro Tachi, Japan also benefits from a high saving rate and a low capital coefficient (capital-to-output ratio) of less than one.\n",
            "['As the Japanese economist Ryuichiro Tachi has pointed out, Japan also benefited from a high savings rate and a low capital coefficient (the ratio of capital to output) of less than 1.']\n",
            "BLEU: 43.07\n",
            "\n"
          ]
        }
      ],
      "source": [
        "preds, labels = [], []\n",
        "import numpy as np\n",
        "from sacrebleu.metrics import BLEU\n",
        "bleu = BLEU()\n",
        "\n",
        "model.eval()\n",
        "for batch_data in tqdm(valid_dataloader):\n",
        "    batch_data = batch_data.to(device)\n",
        "    with torch.no_grad():\n",
        "        generated_tokens = model.generate(\n",
        "            batch_data[\"input_ids\"],\n",
        "            attention_mask=batch_data[\"attention_mask\"],\n",
        "            max_length=max_target_length,\n",
        "        ).cpu().numpy()\n",
        "    label_tokens = batch_data[\"labels\"].cpu().numpy()\n",
        "\n",
        "    decoded_preds = tokenizer.batch_decode(generated_tokens, skip_special_tokens=True)\n",
        "    label_tokens = np.where(label_tokens != -100, label_tokens, tokenizer.pad_token_id)\n",
        "    decoded_labels = tokenizer.batch_decode(label_tokens, skip_special_tokens=True)\n",
        "\n",
        "    preds += [pred.strip() for pred in decoded_preds]\n",
        "    labels += [[label.strip()] for label in decoded_labels]\n",
        "    print(preds[0])\n",
        "    print(labels[0])\n",
        "    break\n",
        "bleu_score = bleu.corpus_score(preds, labels).score\n",
        "print(f\"BLEU: {bleu_score:>0.2f}\\n\")"
      ]
    },
    {
      "cell_type": "code",
      "execution_count": 7,
      "metadata": {
        "colab": {
          "base_uri": "https://localhost:8080/"
        },
        "id": "mIUOy4ilaw4R",
        "outputId": "762a059b-65bd-4064-880c-27c91a4148cf"
      },
      "outputs": [
        {
          "name": "stdout",
          "output_type": "stream",
          "text": [
            "{'input_ids': tensor([[ 5349,     2,   907,     0, 65000, 65000, 65000, 65000, 65000, 65000,\n",
            "         65000, 65000, 65000, 65000, 65000, 65000, 65000, 65000, 65000, 65000,\n",
            "         65000, 65000, 65000, 65000, 65000, 65000],\n",
            "        [  132, 28609, 41412,     2, 16351,  9128,  8677,  5257, 47772, 16351,\n",
            "             0, 65000, 65000, 65000, 65000, 65000, 65000, 65000, 65000, 65000,\n",
            "         65000, 65000, 65000, 65000, 65000, 65000],\n",
            "        [    7, 22070, 30331,    69,  7001,  2049, 22070,   291, 19838,  7355,\n",
            "         18682,     2,    74, 22070,   291, 19838, 19838,  8092,     2,  1956,\n",
            "         37868,  3606, 30331,  2086,     9,     0],\n",
            "        [    7,  7925,  1878,   577, 40382, 17460,   660, 12736, 12154,     2,\n",
            "           716,   150, 12307,  1003, 10054,   863,    80,  3681,  5989, 20660,\n",
            "          2977,     9,     0, 65000, 65000, 65000]]), 'attention_mask': tensor([[1, 1, 1, 1, 0, 0, 0, 0, 0, 0, 0, 0, 0, 0, 0, 0, 0, 0, 0, 0, 0, 0, 0, 0,\n",
            "         0, 0],\n",
            "        [1, 1, 1, 1, 1, 1, 1, 1, 1, 1, 1, 0, 0, 0, 0, 0, 0, 0, 0, 0, 0, 0, 0, 0,\n",
            "         0, 0],\n",
            "        [1, 1, 1, 1, 1, 1, 1, 1, 1, 1, 1, 1, 1, 1, 1, 1, 1, 1, 1, 1, 1, 1, 1, 1,\n",
            "         1, 1],\n",
            "        [1, 1, 1, 1, 1, 1, 1, 1, 1, 1, 1, 1, 1, 1, 1, 1, 1, 1, 1, 1, 1, 1, 1, 0,\n",
            "         0, 0]])}\n",
            "['How do you do, the world?', 'You love me. I love you, honey.', 'The city of Kyoto, which is located in the south of Japan’s capital, is governed by the city’s capital, and it is one of the cities designated by decree.', 'Translation is an example that highlights the advantages of attention mechanisms, with context crucial to the meaning of a word in a sentence.']\n"
          ]
        }
      ],
      "source": [
        "def translate_sentence(model, tokenizer, sentence, device, max_target_length=128):\n",
        "    # Tokenize the input sentence\n",
        "    inputs = tokenizer(sentence, return_tensors=\"pt\", padding=True, truncation=True, max_length=max_target_length)\n",
        "    print(inputs)\n",
        "    # Move tensors to the same device as the model\n",
        "    inputs = {k: v.to(device) for k, v in inputs.items()}\n",
        "\n",
        "    # Generate translation using the model\n",
        "    with torch.no_grad():\n",
        "        generated_tokens = model.generate(\n",
        "            inputs[\"input_ids\"],\n",
        "            attention_mask=inputs[\"attention_mask\"],\n",
        "            max_length=max_target_length,\n",
        "        ).cpu().numpy()\n",
        "\n",
        "    # Decode the generated tokens to a string\n",
        "    decoded_translation = tokenizer.batch_decode(generated_tokens, skip_special_tokens=True)\n",
        "\n",
        "    return decoded_translation\n",
        "\n",
        "# Example usage\n",
        "model.eval() # Make sure the model is in evaluation mode\n",
        "sentence = [\"你好，世界\", \"你爱我我爱你，蜜雪冰城甜蜜蜜\", \"京都市是位于日本京都府南部的城市，为京都府府治，也是政令指定都市之一。\", \"翻译是一个能够突显注意力机制优势的例子，其中上下文对于句子中单词的含义至关重要。\"] # Your Chinese sentence\n",
        "translation = translate_sentence(model, tokenizer, sentence, device)\n",
        "print(translation)"
      ]
    },
    {
      "cell_type": "code",
      "execution_count": 8,
      "metadata": {},
      "outputs": [
        {
          "data": {
            "image/png": "[encoded data removed]",
            "text/plain": [
              "<Figure size 640x480 with 1 Axes>"
            ]
          },
          "metadata": {},
          "output_type": "display_data"
        }
      ],
      "source": [
        "plt.plot(list(range(len(losses))), losses)\n",
        "plt.show()"
      ]
    }
  ],
  "metadata": {
    "accelerator": "GPU",
    "colab": {
      "gpuType": "T4",
      "provenance": []
    },
    "kernelspec": {
      "display_name": "Python 3",
      "name": "python3"
    },
    "language_info": {
      "codemirror_mode": {
        "name": "ipython",
        "version": 3
      },
      "file_extension": ".py",
      "mimetype": "text/x-python",
      "name": "python",
      "nbconvert_exporter": "python",
      "pygments_lexer": "ipython3",
      "version": "3.11.7"
    },
    "widgets": {
      "application/vnd.jupyter.widget-state+json": {
        "07e0a9b4f88e425794e1791994a51bc4": {
          "model_module": "@jupyter-widgets/base",
          "model_module_version": "1.2.0",
          "model_name": "LayoutModel",
          "state": {
            "_model_module": "@jupyter-widgets/base",
            "_model_module_version": "1.2.0",
            "_model_name": "LayoutModel",
            "_view_count": null,
            "_view_module": "@jupyter-widgets/base",
            "_view_module_version": "1.2.0",
            "_view_name": "LayoutView",
            "align_content": null,
            "align_items": null,
            "align_self": null,
            "border": null,
            "bottom": null,
            "display": null,
            "flex": null,
            "flex_flow": null,
            "grid_area": null,
            "grid_auto_columns": null,
            "grid_auto_flow": null,
            "grid_auto_rows": null,
            "grid_column": null,
            "grid_gap": null,
            "grid_row": null,
            "grid_template_areas": null,
            "grid_template_columns": null,
            "grid_template_rows": null,
            "height": null,
            "justify_content": null,
            "justify_items": null,
            "left": null,
            "margin": null,
            "max_height": null,
            "max_width": null,
            "min_height": null,
            "min_width": null,
            "object_fit": null,
            "object_position": null,
            "order": null,
            "overflow": null,
            "overflow_x": null,
            "overflow_y": null,
            "padding": null,
            "right": null,
            "top": null,
            "visibility": null,
            "width": null
          }
        },
        "0f5f907fb54b4e8fb63f2650ec343b90": {
          "model_module": "@jupyter-widgets/controls",
          "model_module_version": "1.5.0",
          "model_name": "HBoxModel",
          "state": {
            "_dom_classes": [],
            "_model_module": "@jupyter-widgets/controls",
            "_model_module_version": "1.5.0",
            "_model_name": "HBoxModel",
            "_view_count": null,
            "_view_module": "@jupyter-widgets/controls",
            "_view_module_version": "1.5.0",
            "_view_name": "HBoxView",
            "box_style": "",
            "children": [
              "IPY_MODEL_1eeb7478f1c84133aa757dde4615cdf1",
              "IPY_MODEL_9833eca0a35e4716b0530c9a29ab5799",
              "IPY_MODEL_1319d4b2b0ba450081cada2760de8176"
            ],
            "layout": "IPY_MODEL_32747ae4668e4ce8945628ba697214a4"
          }
        },
        "1319d4b2b0ba450081cada2760de8176": {
          "model_module": "@jupyter-widgets/controls",
          "model_module_version": "1.5.0",
          "model_name": "HTMLModel",
          "state": {
            "_dom_classes": [],
            "_model_module": "@jupyter-widgets/controls",
            "_model_module_version": "1.5.0",
            "_model_name": "HTMLModel",
            "_view_count": null,
            "_view_module": "@jupyter-widgets/controls",
            "_view_module_version": "1.5.0",
            "_view_name": "HTMLView",
            "description": "",
            "description_tooltip": null,
            "layout": "IPY_MODEL_ee3357ba838c4a48877c57bcab1bb370",
            "placeholder": "​",
            "style": "IPY_MODEL_6e514657e5c647f8ae091b1e0fbfb289",
            "value": " 1622/12640 [09:47&lt;1:07:24,  2.72it/s]"
          }
        },
        "1eeb7478f1c84133aa757dde4615cdf1": {
          "model_module": "@jupyter-widgets/controls",
          "model_module_version": "1.5.0",
          "model_name": "HTMLModel",
          "state": {
            "_dom_classes": [],
            "_model_module": "@jupyter-widgets/controls",
            "_model_module_version": "1.5.0",
            "_model_name": "HTMLModel",
            "_view_count": null,
            "_view_module": "@jupyter-widgets/controls",
            "_view_module_version": "1.5.0",
            "_view_name": "HTMLView",
            "description": "",
            "description_tooltip": null,
            "layout": "IPY_MODEL_07e0a9b4f88e425794e1791994a51bc4",
            "placeholder": "​",
            "style": "IPY_MODEL_3e6e53cec35f4c0583765276ea7fc1ac",
            "value": "loss: 3.549027:  13%"
          }
        },
        "32747ae4668e4ce8945628ba697214a4": {
          "model_module": "@jupyter-widgets/base",
          "model_module_version": "1.2.0",
          "model_name": "LayoutModel",
          "state": {
            "_model_module": "@jupyter-widgets/base",
            "_model_module_version": "1.2.0",
            "_model_name": "LayoutModel",
            "_view_count": null,
            "_view_module": "@jupyter-widgets/base",
            "_view_module_version": "1.2.0",
            "_view_name": "LayoutView",
            "align_content": null,
            "align_items": null,
            "align_self": null,
            "border": null,
            "bottom": null,
            "display": null,
            "flex": null,
            "flex_flow": null,
            "grid_area": null,
            "grid_auto_columns": null,
            "grid_auto_flow": null,
            "grid_auto_rows": null,
            "grid_column": null,
            "grid_gap": null,
            "grid_row": null,
            "grid_template_areas": null,
            "grid_template_columns": null,
            "grid_template_rows": null,
            "height": null,
            "justify_content": null,
            "justify_items": null,
            "left": null,
            "margin": null,
            "max_height": null,
            "max_width": null,
            "min_height": null,
            "min_width": null,
            "object_fit": null,
            "object_position": null,
            "order": null,
            "overflow": null,
            "overflow_x": null,
            "overflow_y": null,
            "padding": null,
            "right": null,
            "top": null,
            "visibility": null,
            "width": null
          }
        },
        "35a2a7714d3a42caa7a082f32b4165bc": {
          "model_module": "@jupyter-widgets/controls",
          "model_module_version": "1.5.0",
          "model_name": "FloatProgressModel",
          "state": {
            "_dom_classes": [],
            "_model_module": "@jupyter-widgets/controls",
            "_model_module_version": "1.5.0",
            "_model_name": "FloatProgressModel",
            "_view_count": null,
            "_view_module": "@jupyter-widgets/controls",
            "_view_module_version": "1.5.0",
            "_view_name": "ProgressView",
            "bar_style": "danger",
            "description": "",
            "description_tooltip": null,
            "layout": "IPY_MODEL_86c9db158c3649649b1b1158e013053a",
            "max": 1580,
            "min": 0,
            "orientation": "horizontal",
            "style": "IPY_MODEL_918201f10e52400fa6de1462ebb149b9",
            "value": 0
          }
        },
        "3e6e53cec35f4c0583765276ea7fc1ac": {
          "model_module": "@jupyter-widgets/controls",
          "model_module_version": "1.5.0",
          "model_name": "DescriptionStyleModel",
          "state": {
            "_model_module": "@jupyter-widgets/controls",
            "_model_module_version": "1.5.0",
            "_model_name": "DescriptionStyleModel",
            "_view_count": null,
            "_view_module": "@jupyter-widgets/base",
            "_view_module_version": "1.2.0",
            "_view_name": "StyleView",
            "description_width": ""
          }
        },
        "48943d199a20464c9fcb208832098c0e": {
          "model_module": "@jupyter-widgets/base",
          "model_module_version": "1.2.0",
          "model_name": "LayoutModel",
          "state": {
            "_model_module": "@jupyter-widgets/base",
            "_model_module_version": "1.2.0",
            "_model_name": "LayoutModel",
            "_view_count": null,
            "_view_module": "@jupyter-widgets/base",
            "_view_module_version": "1.2.0",
            "_view_name": "LayoutView",
            "align_content": null,
            "align_items": null,
            "align_self": null,
            "border": null,
            "bottom": null,
            "display": null,
            "flex": null,
            "flex_flow": null,
            "grid_area": null,
            "grid_auto_columns": null,
            "grid_auto_flow": null,
            "grid_auto_rows": null,
            "grid_column": null,
            "grid_gap": null,
            "grid_row": null,
            "grid_template_areas": null,
            "grid_template_columns": null,
            "grid_template_rows": null,
            "height": null,
            "justify_content": null,
            "justify_items": null,
            "left": null,
            "margin": null,
            "max_height": null,
            "max_width": null,
            "min_height": null,
            "min_width": null,
            "object_fit": null,
            "object_position": null,
            "order": null,
            "overflow": null,
            "overflow_x": null,
            "overflow_y": null,
            "padding": null,
            "right": null,
            "top": null,
            "visibility": null,
            "width": null
          }
        },
        "537d4b9f191f4075933c2126caa726cd": {
          "model_module": "@jupyter-widgets/base",
          "model_module_version": "1.2.0",
          "model_name": "LayoutModel",
          "state": {
            "_model_module": "@jupyter-widgets/base",
            "_model_module_version": "1.2.0",
            "_model_name": "LayoutModel",
            "_view_count": null,
            "_view_module": "@jupyter-widgets/base",
            "_view_module_version": "1.2.0",
            "_view_name": "LayoutView",
            "align_content": null,
            "align_items": null,
            "align_self": null,
            "border": null,
            "bottom": null,
            "display": null,
            "flex": null,
            "flex_flow": null,
            "grid_area": null,
            "grid_auto_columns": null,
            "grid_auto_flow": null,
            "grid_auto_rows": null,
            "grid_column": null,
            "grid_gap": null,
            "grid_row": null,
            "grid_template_areas": null,
            "grid_template_columns": null,
            "grid_template_rows": null,
            "height": null,
            "justify_content": null,
            "justify_items": null,
            "left": null,
            "margin": null,
            "max_height": null,
            "max_width": null,
            "min_height": null,
            "min_width": null,
            "object_fit": null,
            "object_position": null,
            "order": null,
            "overflow": null,
            "overflow_x": null,
            "overflow_y": null,
            "padding": null,
            "right": null,
            "top": null,
            "visibility": null,
            "width": null
          }
        },
        "55733f66f1794a5ca9242ec4274cb361": {
          "model_module": "@jupyter-widgets/controls",
          "model_module_version": "1.5.0",
          "model_name": "DescriptionStyleModel",
          "state": {
            "_model_module": "@jupyter-widgets/controls",
            "_model_module_version": "1.5.0",
            "_model_name": "DescriptionStyleModel",
            "_view_count": null,
            "_view_module": "@jupyter-widgets/base",
            "_view_module_version": "1.2.0",
            "_view_name": "StyleView",
            "description_width": ""
          }
        },
        "6e514657e5c647f8ae091b1e0fbfb289": {
          "model_module": "@jupyter-widgets/controls",
          "model_module_version": "1.5.0",
          "model_name": "DescriptionStyleModel",
          "state": {
            "_model_module": "@jupyter-widgets/controls",
            "_model_module_version": "1.5.0",
            "_model_name": "DescriptionStyleModel",
            "_view_count": null,
            "_view_module": "@jupyter-widgets/base",
            "_view_module_version": "1.2.0",
            "_view_name": "StyleView",
            "description_width": ""
          }
        },
        "7a39e5f32b484b52826de9928b635e79": {
          "model_module": "@jupyter-widgets/controls",
          "model_module_version": "1.5.0",
          "model_name": "HTMLModel",
          "state": {
            "_dom_classes": [],
            "_model_module": "@jupyter-widgets/controls",
            "_model_module_version": "1.5.0",
            "_model_name": "HTMLModel",
            "_view_count": null,
            "_view_module": "@jupyter-widgets/controls",
            "_view_module_version": "1.5.0",
            "_view_name": "HTMLView",
            "description": "",
            "description_tooltip": null,
            "layout": "IPY_MODEL_e3c225b570b9439eabf4030009c8cd53",
            "placeholder": "​",
            "style": "IPY_MODEL_55733f66f1794a5ca9242ec4274cb361",
            "value": " 0/1580 [00:03&lt;?, ?it/s]"
          }
        },
        "850620df17ac488f88a51d9e2d3f0707": {
          "model_module": "@jupyter-widgets/controls",
          "model_module_version": "1.5.0",
          "model_name": "HBoxModel",
          "state": {
            "_dom_classes": [],
            "_model_module": "@jupyter-widgets/controls",
            "_model_module_version": "1.5.0",
            "_model_name": "HBoxModel",
            "_view_count": null,
            "_view_module": "@jupyter-widgets/controls",
            "_view_module_version": "1.5.0",
            "_view_name": "HBoxView",
            "box_style": "",
            "children": [
              "IPY_MODEL_ccc098f5f4974ac2809c774dc8179145",
              "IPY_MODEL_35a2a7714d3a42caa7a082f32b4165bc",
              "IPY_MODEL_7a39e5f32b484b52826de9928b635e79"
            ],
            "layout": "IPY_MODEL_48943d199a20464c9fcb208832098c0e"
          }
        },
        "86c9db158c3649649b1b1158e013053a": {
          "model_module": "@jupyter-widgets/base",
          "model_module_version": "1.2.0",
          "model_name": "LayoutModel",
          "state": {
            "_model_module": "@jupyter-widgets/base",
            "_model_module_version": "1.2.0",
            "_model_name": "LayoutModel",
            "_view_count": null,
            "_view_module": "@jupyter-widgets/base",
            "_view_module_version": "1.2.0",
            "_view_name": "LayoutView",
            "align_content": null,
            "align_items": null,
            "align_self": null,
            "border": null,
            "bottom": null,
            "display": null,
            "flex": null,
            "flex_flow": null,
            "grid_area": null,
            "grid_auto_columns": null,
            "grid_auto_flow": null,
            "grid_auto_rows": null,
            "grid_column": null,
            "grid_gap": null,
            "grid_row": null,
            "grid_template_areas": null,
            "grid_template_columns": null,
            "grid_template_rows": null,
            "height": null,
            "justify_content": null,
            "justify_items": null,
            "left": null,
            "margin": null,
            "max_height": null,
            "max_width": null,
            "min_height": null,
            "min_width": null,
            "object_fit": null,
            "object_position": null,
            "order": null,
            "overflow": null,
            "overflow_x": null,
            "overflow_y": null,
            "padding": null,
            "right": null,
            "top": null,
            "visibility": null,
            "width": null
          }
        },
        "918201f10e52400fa6de1462ebb149b9": {
          "model_module": "@jupyter-widgets/controls",
          "model_module_version": "1.5.0",
          "model_name": "ProgressStyleModel",
          "state": {
            "_model_module": "@jupyter-widgets/controls",
            "_model_module_version": "1.5.0",
            "_model_name": "ProgressStyleModel",
            "_view_count": null,
            "_view_module": "@jupyter-widgets/base",
            "_view_module_version": "1.2.0",
            "_view_name": "StyleView",
            "bar_color": null,
            "description_width": ""
          }
        },
        "9833eca0a35e4716b0530c9a29ab5799": {
          "model_module": "@jupyter-widgets/controls",
          "model_module_version": "1.5.0",
          "model_name": "FloatProgressModel",
          "state": {
            "_dom_classes": [],
            "_model_module": "@jupyter-widgets/controls",
            "_model_module_version": "1.5.0",
            "_model_name": "FloatProgressModel",
            "_view_count": null,
            "_view_module": "@jupyter-widgets/controls",
            "_view_module_version": "1.5.0",
            "_view_name": "ProgressView",
            "bar_style": "",
            "description": "",
            "description_tooltip": null,
            "layout": "IPY_MODEL_537d4b9f191f4075933c2126caa726cd",
            "max": 12640,
            "min": 0,
            "orientation": "horizontal",
            "style": "IPY_MODEL_afbf756d5541422d9c1d6aab05f9d204",
            "value": 1622
          }
        },
        "af606d616af14b1aaa0cb79c1c0e9013": {
          "model_module": "@jupyter-widgets/base",
          "model_module_version": "1.2.0",
          "model_name": "LayoutModel",
          "state": {
            "_model_module": "@jupyter-widgets/base",
            "_model_module_version": "1.2.0",
            "_model_name": "LayoutModel",
            "_view_count": null,
            "_view_module": "@jupyter-widgets/base",
            "_view_module_version": "1.2.0",
            "_view_name": "LayoutView",
            "align_content": null,
            "align_items": null,
            "align_self": null,
            "border": null,
            "bottom": null,
            "display": null,
            "flex": null,
            "flex_flow": null,
            "grid_area": null,
            "grid_auto_columns": null,
            "grid_auto_flow": null,
            "grid_auto_rows": null,
            "grid_column": null,
            "grid_gap": null,
            "grid_row": null,
            "grid_template_areas": null,
            "grid_template_columns": null,
            "grid_template_rows": null,
            "height": null,
            "justify_content": null,
            "justify_items": null,
            "left": null,
            "margin": null,
            "max_height": null,
            "max_width": null,
            "min_height": null,
            "min_width": null,
            "object_fit": null,
            "object_position": null,
            "order": null,
            "overflow": null,
            "overflow_x": null,
            "overflow_y": null,
            "padding": null,
            "right": null,
            "top": null,
            "visibility": null,
            "width": null
          }
        },
        "afbf756d5541422d9c1d6aab05f9d204": {
          "model_module": "@jupyter-widgets/controls",
          "model_module_version": "1.5.0",
          "model_name": "ProgressStyleModel",
          "state": {
            "_model_module": "@jupyter-widgets/controls",
            "_model_module_version": "1.5.0",
            "_model_name": "ProgressStyleModel",
            "_view_count": null,
            "_view_module": "@jupyter-widgets/base",
            "_view_module_version": "1.2.0",
            "_view_name": "StyleView",
            "bar_color": null,
            "description_width": ""
          }
        },
        "ccc098f5f4974ac2809c774dc8179145": {
          "model_module": "@jupyter-widgets/controls",
          "model_module_version": "1.5.0",
          "model_name": "HTMLModel",
          "state": {
            "_dom_classes": [],
            "_model_module": "@jupyter-widgets/controls",
            "_model_module_version": "1.5.0",
            "_model_name": "HTMLModel",
            "_view_count": null,
            "_view_module": "@jupyter-widgets/controls",
            "_view_module_version": "1.5.0",
            "_view_name": "HTMLView",
            "description": "",
            "description_tooltip": null,
            "layout": "IPY_MODEL_af606d616af14b1aaa0cb79c1c0e9013",
            "placeholder": "​",
            "style": "IPY_MODEL_d759ca2acc07453fa333a8ee9cfc872a",
            "value": "  0%"
          }
        },
        "d759ca2acc07453fa333a8ee9cfc872a": {
          "model_module": "@jupyter-widgets/controls",
          "model_module_version": "1.5.0",
          "model_name": "DescriptionStyleModel",
          "state": {
            "_model_module": "@jupyter-widgets/controls",
            "_model_module_version": "1.5.0",
            "_model_name": "DescriptionStyleModel",
            "_view_count": null,
            "_view_module": "@jupyter-widgets/base",
            "_view_module_version": "1.2.0",
            "_view_name": "StyleView",
            "description_width": ""
          }
        },
        "e3c225b570b9439eabf4030009c8cd53": {
          "model_module": "@jupyter-widgets/base",
          "model_module_version": "1.2.0",
          "model_name": "LayoutModel",
          "state": {
            "_model_module": "@jupyter-widgets/base",
            "_model_module_version": "1.2.0",
            "_model_name": "LayoutModel",
            "_view_count": null,
            "_view_module": "@jupyter-widgets/base",
            "_view_module_version": "1.2.0",
            "_view_name": "LayoutView",
            "align_content": null,
            "align_items": null,
            "align_self": null,
            "border": null,
            "bottom": null,
            "display": null,
            "flex": null,
            "flex_flow": null,
            "grid_area": null,
            "grid_auto_columns": null,
            "grid_auto_flow": null,
            "grid_auto_rows": null,
            "grid_column": null,
            "grid_gap": null,
            "grid_row": null,
            "grid_template_areas": null,
            "grid_template_columns": null,
            "grid_template_rows": null,
            "height": null,
            "justify_content": null,
            "justify_items": null,
            "left": null,
            "margin": null,
            "max_height": null,
            "max_width": null,
            "min_height": null,
            "min_width": null,
            "object_fit": null,
            "object_position": null,
            "order": null,
            "overflow": null,
            "overflow_x": null,
            "overflow_y": null,
            "padding": null,
            "right": null,
            "top": null,
            "visibility": null,
            "width": null
          }
        },
        "ee3357ba838c4a48877c57bcab1bb370": {
          "model_module": "@jupyter-widgets/base",
          "model_module_version": "1.2.0",
          "model_name": "LayoutModel",
          "state": {
            "_model_module": "@jupyter-widgets/base",
            "_model_module_version": "1.2.0",
            "_model_name": "LayoutModel",
            "_view_count": null,
            "_view_module": "@jupyter-widgets/base",
            "_view_module_version": "1.2.0",
            "_view_name": "LayoutView",
            "align_content": null,
            "align_items": null,
            "align_self": null,
            "border": null,
            "bottom": null,
            "display": null,
            "flex": null,
            "flex_flow": null,
            "grid_area": null,
            "grid_auto_columns": null,
            "grid_auto_flow": null,
            "grid_auto_rows": null,
            "grid_column": null,
            "grid_gap": null,
            "grid_row": null,
            "grid_template_areas": null,
            "grid_template_columns": null,
            "grid_template_rows": null,
            "height": null,
            "justify_content": null,
            "justify_items": null,
            "left": null,
            "margin": null,
            "max_height": null,
            "max_width": null,
            "min_height": null,
            "min_width": null,
            "object_fit": null,
            "object_position": null,
            "order": null,
            "overflow": null,
            "overflow_x": null,
            "overflow_y": null,
            "padding": null,
            "right": null,
            "top": null,
            "visibility": null,
            "width": null
          }
        }
      }
    }
  },
  "nbformat": 4,
  "nbformat_minor": 0
}
